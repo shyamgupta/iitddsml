{
 "cells": [
  {
   "cell_type": "markdown",
   "id": "c9545d29-d7bb-48d4-8718-8d4854e75bf0",
   "metadata": {},
   "source": [
    "# Machine Learning for Regression\n",
    "---"
   ]
  },
  {
   "cell_type": "markdown",
   "id": "4f0fa31b-cc8c-4700-a7f3-ff1315691b7c",
   "metadata": {},
   "source": [
    "Notes based on [Machine Learning Boookcamp by Alexey Grigorev](https://www.amazon.in/Machine-Learning-Bookcamp-portfolio-real-life/dp/1617296813)"
   ]
  },
  {
   "cell_type": "markdown",
   "id": "807898fb-ba8a-47d6-9fa7-e94cd0d7b688",
   "metadata": {},
   "source": [
    "![Linear Regression](../img/lregression.jpg)"
   ]
  },
  {
   "cell_type": "markdown",
   "id": "837a8d07-6a46-4329-ac88-f4a032251c00",
   "metadata": {},
   "source": [
    "# Import Libraries\n",
    "- `seaborn`: Makes using matplotlib easier\n",
    "- `%matplotlib inline`: Enables the rendering of Matplotlib plots directly below code cells. When you execute code that generates Matplotlib plots, the plots are displayed inline within the notebook, rather than in a separate window or output cell"
   ]
  },
  {
   "cell_type": "code",
   "execution_count": 2,
   "id": "caf86904-f2e0-4279-88a8-1c284d6e24f0",
   "metadata": {},
   "outputs": [],
   "source": [
    "import numpy as np\n",
    "import pandas as pd\n",
    "import matplotlib.pyplot as plt\n",
    "import seaborn as sns\n",
    "%matplotlib inline"
   ]
  },
  {
   "cell_type": "markdown",
   "id": "d182b01f-8726-4fa6-99b8-ebf9569e5dde",
   "metadata": {},
   "source": [
    "# Download the dataset\n",
    "Dataset Location: https://www.kaggle.com/datasets/CooperUnion/cardataset"
   ]
  },
  {
   "cell_type": "code",
   "execution_count": 3,
   "id": "40bdbcf0-2ce2-4af4-bbfb-c9856e3615a6",
   "metadata": {},
   "outputs": [],
   "source": [
    "# Import the dataset as a Pandas DataFrame\n",
    "df = pd.read_csv('./datasets/cardataset.csv')"
   ]
  },
  {
   "cell_type": "markdown",
   "id": "1aff4cc4-3c56-42c5-8af9-484b2e3bb7d1",
   "metadata": {},
   "source": [
    "# Exploratory Data Analysis\n",
    "Explore the dataset to understand the following:\n",
    "- Distribution of the target variable (car price)\n",
    "- Features in this dataset\n",
    "- Distribution of values in these features\n",
    "- Quality of the data\n",
    "- Missing values"
   ]
  },
  {
   "cell_type": "code",
   "execution_count": 4,
   "id": "a27cced4-b819-4f3a-9c9f-7128d6f91c4c",
   "metadata": {},
   "outputs": [
    {
     "data": {
      "text/plain": [
       "11914"
      ]
     },
     "execution_count": 4,
     "metadata": {},
     "output_type": "execute_result"
    }
   ],
   "source": [
    "# Check the number of rows in our DataFrame\n",
    "len(df)"
   ]
  },
  {
   "cell_type": "code",
   "execution_count": 5,
   "id": "2c9e8cb7-9f3a-4d7c-8ae5-75ceaceecfd5",
   "metadata": {},
   "outputs": [
    {
     "data": {
      "text/html": [
       "<div>\n",
       "<style scoped>\n",
       "    .dataframe tbody tr th:only-of-type {\n",
       "        vertical-align: middle;\n",
       "    }\n",
       "\n",
       "    .dataframe tbody tr th {\n",
       "        vertical-align: top;\n",
       "    }\n",
       "\n",
       "    .dataframe thead th {\n",
       "        text-align: right;\n",
       "    }\n",
       "</style>\n",
       "<table border=\"1\" class=\"dataframe\">\n",
       "  <thead>\n",
       "    <tr style=\"text-align: right;\">\n",
       "      <th></th>\n",
       "      <th>Make</th>\n",
       "      <th>Model</th>\n",
       "      <th>Year</th>\n",
       "      <th>Engine Fuel Type</th>\n",
       "      <th>Engine HP</th>\n",
       "      <th>Engine Cylinders</th>\n",
       "      <th>Transmission Type</th>\n",
       "      <th>Driven_Wheels</th>\n",
       "      <th>Number of Doors</th>\n",
       "      <th>Market Category</th>\n",
       "      <th>Vehicle Size</th>\n",
       "      <th>Vehicle Style</th>\n",
       "      <th>highway MPG</th>\n",
       "      <th>city mpg</th>\n",
       "      <th>Popularity</th>\n",
       "      <th>MSRP</th>\n",
       "    </tr>\n",
       "  </thead>\n",
       "  <tbody>\n",
       "    <tr>\n",
       "      <th>0</th>\n",
       "      <td>BMW</td>\n",
       "      <td>1 Series M</td>\n",
       "      <td>2011</td>\n",
       "      <td>premium unleaded (required)</td>\n",
       "      <td>335.0</td>\n",
       "      <td>6.0</td>\n",
       "      <td>MANUAL</td>\n",
       "      <td>rear wheel drive</td>\n",
       "      <td>2.0</td>\n",
       "      <td>Factory Tuner,Luxury,High-Performance</td>\n",
       "      <td>Compact</td>\n",
       "      <td>Coupe</td>\n",
       "      <td>26</td>\n",
       "      <td>19</td>\n",
       "      <td>3916</td>\n",
       "      <td>46135</td>\n",
       "    </tr>\n",
       "    <tr>\n",
       "      <th>1</th>\n",
       "      <td>BMW</td>\n",
       "      <td>1 Series</td>\n",
       "      <td>2011</td>\n",
       "      <td>premium unleaded (required)</td>\n",
       "      <td>300.0</td>\n",
       "      <td>6.0</td>\n",
       "      <td>MANUAL</td>\n",
       "      <td>rear wheel drive</td>\n",
       "      <td>2.0</td>\n",
       "      <td>Luxury,Performance</td>\n",
       "      <td>Compact</td>\n",
       "      <td>Convertible</td>\n",
       "      <td>28</td>\n",
       "      <td>19</td>\n",
       "      <td>3916</td>\n",
       "      <td>40650</td>\n",
       "    </tr>\n",
       "    <tr>\n",
       "      <th>2</th>\n",
       "      <td>BMW</td>\n",
       "      <td>1 Series</td>\n",
       "      <td>2011</td>\n",
       "      <td>premium unleaded (required)</td>\n",
       "      <td>300.0</td>\n",
       "      <td>6.0</td>\n",
       "      <td>MANUAL</td>\n",
       "      <td>rear wheel drive</td>\n",
       "      <td>2.0</td>\n",
       "      <td>Luxury,High-Performance</td>\n",
       "      <td>Compact</td>\n",
       "      <td>Coupe</td>\n",
       "      <td>28</td>\n",
       "      <td>20</td>\n",
       "      <td>3916</td>\n",
       "      <td>36350</td>\n",
       "    </tr>\n",
       "    <tr>\n",
       "      <th>3</th>\n",
       "      <td>BMW</td>\n",
       "      <td>1 Series</td>\n",
       "      <td>2011</td>\n",
       "      <td>premium unleaded (required)</td>\n",
       "      <td>230.0</td>\n",
       "      <td>6.0</td>\n",
       "      <td>MANUAL</td>\n",
       "      <td>rear wheel drive</td>\n",
       "      <td>2.0</td>\n",
       "      <td>Luxury,Performance</td>\n",
       "      <td>Compact</td>\n",
       "      <td>Coupe</td>\n",
       "      <td>28</td>\n",
       "      <td>18</td>\n",
       "      <td>3916</td>\n",
       "      <td>29450</td>\n",
       "    </tr>\n",
       "    <tr>\n",
       "      <th>4</th>\n",
       "      <td>BMW</td>\n",
       "      <td>1 Series</td>\n",
       "      <td>2011</td>\n",
       "      <td>premium unleaded (required)</td>\n",
       "      <td>230.0</td>\n",
       "      <td>6.0</td>\n",
       "      <td>MANUAL</td>\n",
       "      <td>rear wheel drive</td>\n",
       "      <td>2.0</td>\n",
       "      <td>Luxury</td>\n",
       "      <td>Compact</td>\n",
       "      <td>Convertible</td>\n",
       "      <td>28</td>\n",
       "      <td>18</td>\n",
       "      <td>3916</td>\n",
       "      <td>34500</td>\n",
       "    </tr>\n",
       "  </tbody>\n",
       "</table>\n",
       "</div>"
      ],
      "text/plain": [
       "  Make       Model  Year             Engine Fuel Type  Engine HP  \\\n",
       "0  BMW  1 Series M  2011  premium unleaded (required)      335.0   \n",
       "1  BMW    1 Series  2011  premium unleaded (required)      300.0   \n",
       "2  BMW    1 Series  2011  premium unleaded (required)      300.0   \n",
       "3  BMW    1 Series  2011  premium unleaded (required)      230.0   \n",
       "4  BMW    1 Series  2011  premium unleaded (required)      230.0   \n",
       "\n",
       "   Engine Cylinders Transmission Type     Driven_Wheels  Number of Doors  \\\n",
       "0               6.0            MANUAL  rear wheel drive              2.0   \n",
       "1               6.0            MANUAL  rear wheel drive              2.0   \n",
       "2               6.0            MANUAL  rear wheel drive              2.0   \n",
       "3               6.0            MANUAL  rear wheel drive              2.0   \n",
       "4               6.0            MANUAL  rear wheel drive              2.0   \n",
       "\n",
       "                         Market Category Vehicle Size Vehicle Style  \\\n",
       "0  Factory Tuner,Luxury,High-Performance      Compact         Coupe   \n",
       "1                     Luxury,Performance      Compact   Convertible   \n",
       "2                Luxury,High-Performance      Compact         Coupe   \n",
       "3                     Luxury,Performance      Compact         Coupe   \n",
       "4                                 Luxury      Compact   Convertible   \n",
       "\n",
       "   highway MPG  city mpg  Popularity   MSRP  \n",
       "0           26        19        3916  46135  \n",
       "1           28        19        3916  40650  \n",
       "2           28        20        3916  36350  \n",
       "3           28        18        3916  29450  \n",
       "4           28        18        3916  34500  "
      ]
     },
     "execution_count": 5,
     "metadata": {},
     "output_type": "execute_result"
    }
   ],
   "source": [
    "# View the first 5 rows of our DataFrame\n",
    "df.head()"
   ]
  },
  {
   "cell_type": "markdown",
   "id": "d2234f22-8bec-4ce1-9ba9-b9bc93cbf82c",
   "metadata": {},
   "source": [
    "We can see inconsistencies in the dataset:\n",
    "- Sometimes column names have spaces, sometimes have underscores\n",
    "- Feature values are sometimes capitalized, some are short strings with spaces.\n",
    "Action: Replace spaces with underscores, and lowercase all letters"
   ]
  },
  {
   "cell_type": "code",
   "execution_count": 6,
   "id": "8c2fbad9-1913-403f-a491-036b59eec3e0",
   "metadata": {},
   "outputs": [
    {
     "name": "stdout",
     "output_type": "stream",
     "text": [
      "Index(['Make', 'Model', 'Year', 'Engine Fuel Type', 'Engine HP',\n",
      "       'Engine Cylinders', 'Transmission Type', 'Driven_Wheels',\n",
      "       'Number of Doors', 'Market Category', 'Vehicle Size', 'Vehicle Style',\n",
      "       'highway MPG', 'city mpg', 'Popularity', 'MSRP'],\n",
      "      dtype='object')\n"
     ]
    }
   ],
   "source": [
    "print(df.columns)"
   ]
  },
  {
   "cell_type": "code",
   "execution_count": 7,
   "id": "50b14727-66f8-4ef8-b00f-b62583e55b62",
   "metadata": {},
   "outputs": [],
   "source": [
    "# df.columns will return the column names in the DataFrame\n",
    "# Lowercase the column names, replace spaces with underscores\n",
    "df.columns = df.columns.str.lower().str.replace(' ','_')"
   ]
  },
  {
   "cell_type": "code",
   "execution_count": 8,
   "id": "b8e7b72c-c863-4016-abeb-cba73232c2c9",
   "metadata": {},
   "outputs": [
    {
     "data": {
      "text/html": [
       "<div>\n",
       "<style scoped>\n",
       "    .dataframe tbody tr th:only-of-type {\n",
       "        vertical-align: middle;\n",
       "    }\n",
       "\n",
       "    .dataframe tbody tr th {\n",
       "        vertical-align: top;\n",
       "    }\n",
       "\n",
       "    .dataframe thead th {\n",
       "        text-align: right;\n",
       "    }\n",
       "</style>\n",
       "<table border=\"1\" class=\"dataframe\">\n",
       "  <thead>\n",
       "    <tr style=\"text-align: right;\">\n",
       "      <th></th>\n",
       "      <th>make</th>\n",
       "      <th>model</th>\n",
       "      <th>year</th>\n",
       "      <th>engine_fuel_type</th>\n",
       "      <th>engine_hp</th>\n",
       "      <th>engine_cylinders</th>\n",
       "      <th>transmission_type</th>\n",
       "      <th>driven_wheels</th>\n",
       "      <th>number_of_doors</th>\n",
       "      <th>market_category</th>\n",
       "      <th>vehicle_size</th>\n",
       "      <th>vehicle_style</th>\n",
       "      <th>highway_mpg</th>\n",
       "      <th>city_mpg</th>\n",
       "      <th>popularity</th>\n",
       "      <th>msrp</th>\n",
       "    </tr>\n",
       "  </thead>\n",
       "  <tbody>\n",
       "    <tr>\n",
       "      <th>0</th>\n",
       "      <td>BMW</td>\n",
       "      <td>1 Series M</td>\n",
       "      <td>2011</td>\n",
       "      <td>premium unleaded (required)</td>\n",
       "      <td>335.0</td>\n",
       "      <td>6.0</td>\n",
       "      <td>MANUAL</td>\n",
       "      <td>rear wheel drive</td>\n",
       "      <td>2.0</td>\n",
       "      <td>Factory Tuner,Luxury,High-Performance</td>\n",
       "      <td>Compact</td>\n",
       "      <td>Coupe</td>\n",
       "      <td>26</td>\n",
       "      <td>19</td>\n",
       "      <td>3916</td>\n",
       "      <td>46135</td>\n",
       "    </tr>\n",
       "    <tr>\n",
       "      <th>1</th>\n",
       "      <td>BMW</td>\n",
       "      <td>1 Series</td>\n",
       "      <td>2011</td>\n",
       "      <td>premium unleaded (required)</td>\n",
       "      <td>300.0</td>\n",
       "      <td>6.0</td>\n",
       "      <td>MANUAL</td>\n",
       "      <td>rear wheel drive</td>\n",
       "      <td>2.0</td>\n",
       "      <td>Luxury,Performance</td>\n",
       "      <td>Compact</td>\n",
       "      <td>Convertible</td>\n",
       "      <td>28</td>\n",
       "      <td>19</td>\n",
       "      <td>3916</td>\n",
       "      <td>40650</td>\n",
       "    </tr>\n",
       "    <tr>\n",
       "      <th>2</th>\n",
       "      <td>BMW</td>\n",
       "      <td>1 Series</td>\n",
       "      <td>2011</td>\n",
       "      <td>premium unleaded (required)</td>\n",
       "      <td>300.0</td>\n",
       "      <td>6.0</td>\n",
       "      <td>MANUAL</td>\n",
       "      <td>rear wheel drive</td>\n",
       "      <td>2.0</td>\n",
       "      <td>Luxury,High-Performance</td>\n",
       "      <td>Compact</td>\n",
       "      <td>Coupe</td>\n",
       "      <td>28</td>\n",
       "      <td>20</td>\n",
       "      <td>3916</td>\n",
       "      <td>36350</td>\n",
       "    </tr>\n",
       "    <tr>\n",
       "      <th>3</th>\n",
       "      <td>BMW</td>\n",
       "      <td>1 Series</td>\n",
       "      <td>2011</td>\n",
       "      <td>premium unleaded (required)</td>\n",
       "      <td>230.0</td>\n",
       "      <td>6.0</td>\n",
       "      <td>MANUAL</td>\n",
       "      <td>rear wheel drive</td>\n",
       "      <td>2.0</td>\n",
       "      <td>Luxury,Performance</td>\n",
       "      <td>Compact</td>\n",
       "      <td>Coupe</td>\n",
       "      <td>28</td>\n",
       "      <td>18</td>\n",
       "      <td>3916</td>\n",
       "      <td>29450</td>\n",
       "    </tr>\n",
       "    <tr>\n",
       "      <th>4</th>\n",
       "      <td>BMW</td>\n",
       "      <td>1 Series</td>\n",
       "      <td>2011</td>\n",
       "      <td>premium unleaded (required)</td>\n",
       "      <td>230.0</td>\n",
       "      <td>6.0</td>\n",
       "      <td>MANUAL</td>\n",
       "      <td>rear wheel drive</td>\n",
       "      <td>2.0</td>\n",
       "      <td>Luxury</td>\n",
       "      <td>Compact</td>\n",
       "      <td>Convertible</td>\n",
       "      <td>28</td>\n",
       "      <td>18</td>\n",
       "      <td>3916</td>\n",
       "      <td>34500</td>\n",
       "    </tr>\n",
       "  </tbody>\n",
       "</table>\n",
       "</div>"
      ],
      "text/plain": [
       "  make       model  year             engine_fuel_type  engine_hp  \\\n",
       "0  BMW  1 Series M  2011  premium unleaded (required)      335.0   \n",
       "1  BMW    1 Series  2011  premium unleaded (required)      300.0   \n",
       "2  BMW    1 Series  2011  premium unleaded (required)      300.0   \n",
       "3  BMW    1 Series  2011  premium unleaded (required)      230.0   \n",
       "4  BMW    1 Series  2011  premium unleaded (required)      230.0   \n",
       "\n",
       "   engine_cylinders transmission_type     driven_wheels  number_of_doors  \\\n",
       "0               6.0            MANUAL  rear wheel drive              2.0   \n",
       "1               6.0            MANUAL  rear wheel drive              2.0   \n",
       "2               6.0            MANUAL  rear wheel drive              2.0   \n",
       "3               6.0            MANUAL  rear wheel drive              2.0   \n",
       "4               6.0            MANUAL  rear wheel drive              2.0   \n",
       "\n",
       "                         market_category vehicle_size vehicle_style  \\\n",
       "0  Factory Tuner,Luxury,High-Performance      Compact         Coupe   \n",
       "1                     Luxury,Performance      Compact   Convertible   \n",
       "2                Luxury,High-Performance      Compact         Coupe   \n",
       "3                     Luxury,Performance      Compact         Coupe   \n",
       "4                                 Luxury      Compact   Convertible   \n",
       "\n",
       "   highway_mpg  city_mpg  popularity   msrp  \n",
       "0           26        19        3916  46135  \n",
       "1           28        19        3916  40650  \n",
       "2           28        20        3916  36350  \n",
       "3           28        18        3916  29450  \n",
       "4           28        18        3916  34500  "
      ]
     },
     "execution_count": 8,
     "metadata": {},
     "output_type": "execute_result"
    }
   ],
   "source": [
    "df.head()"
   ]
  },
  {
   "cell_type": "code",
   "execution_count": 9,
   "id": "5df7b1e6-eae4-4256-8986-6655199be4ef",
   "metadata": {},
   "outputs": [
    {
     "name": "stdout",
     "output_type": "stream",
     "text": [
      "['make', 'model', 'engine_fuel_type', 'transmission_type', 'driven_wheels', 'market_category', 'vehicle_size', 'vehicle_style']\n"
     ]
    }
   ],
   "source": [
    "# Select columns with string values: lowercase the values, replace spaces with underscores\n",
    "# df.dtypes will return a Pandas Series with the data type of each column\n",
    "string_columns = list(df.dtypes[df.dtypes=='object'].index)\n",
    "print(string_columns)"
   ]
  },
  {
   "cell_type": "code",
   "execution_count": 10,
   "id": "a7ba81b1-b6d6-48b5-b860-65c1e245db77",
   "metadata": {},
   "outputs": [],
   "source": [
    "for column in string_columns:\n",
    "    df[column] = df[column].str.lower().str.replace(' ','_')"
   ]
  },
  {
   "cell_type": "code",
   "execution_count": 11,
   "id": "d93a3045-2dca-4fc7-8ab3-0f954d1876d4",
   "metadata": {},
   "outputs": [
    {
     "data": {
      "text/html": [
       "<div>\n",
       "<style scoped>\n",
       "    .dataframe tbody tr th:only-of-type {\n",
       "        vertical-align: middle;\n",
       "    }\n",
       "\n",
       "    .dataframe tbody tr th {\n",
       "        vertical-align: top;\n",
       "    }\n",
       "\n",
       "    .dataframe thead th {\n",
       "        text-align: right;\n",
       "    }\n",
       "</style>\n",
       "<table border=\"1\" class=\"dataframe\">\n",
       "  <thead>\n",
       "    <tr style=\"text-align: right;\">\n",
       "      <th></th>\n",
       "      <th>make</th>\n",
       "      <th>model</th>\n",
       "      <th>year</th>\n",
       "      <th>engine_fuel_type</th>\n",
       "      <th>engine_hp</th>\n",
       "      <th>engine_cylinders</th>\n",
       "      <th>transmission_type</th>\n",
       "      <th>driven_wheels</th>\n",
       "      <th>number_of_doors</th>\n",
       "      <th>market_category</th>\n",
       "      <th>vehicle_size</th>\n",
       "      <th>vehicle_style</th>\n",
       "      <th>highway_mpg</th>\n",
       "      <th>city_mpg</th>\n",
       "      <th>popularity</th>\n",
       "      <th>msrp</th>\n",
       "    </tr>\n",
       "  </thead>\n",
       "  <tbody>\n",
       "    <tr>\n",
       "      <th>0</th>\n",
       "      <td>bmw</td>\n",
       "      <td>1_series_m</td>\n",
       "      <td>2011</td>\n",
       "      <td>premium_unleaded_(required)</td>\n",
       "      <td>335.0</td>\n",
       "      <td>6.0</td>\n",
       "      <td>manual</td>\n",
       "      <td>rear_wheel_drive</td>\n",
       "      <td>2.0</td>\n",
       "      <td>factory_tuner,luxury,high-performance</td>\n",
       "      <td>compact</td>\n",
       "      <td>coupe</td>\n",
       "      <td>26</td>\n",
       "      <td>19</td>\n",
       "      <td>3916</td>\n",
       "      <td>46135</td>\n",
       "    </tr>\n",
       "    <tr>\n",
       "      <th>1</th>\n",
       "      <td>bmw</td>\n",
       "      <td>1_series</td>\n",
       "      <td>2011</td>\n",
       "      <td>premium_unleaded_(required)</td>\n",
       "      <td>300.0</td>\n",
       "      <td>6.0</td>\n",
       "      <td>manual</td>\n",
       "      <td>rear_wheel_drive</td>\n",
       "      <td>2.0</td>\n",
       "      <td>luxury,performance</td>\n",
       "      <td>compact</td>\n",
       "      <td>convertible</td>\n",
       "      <td>28</td>\n",
       "      <td>19</td>\n",
       "      <td>3916</td>\n",
       "      <td>40650</td>\n",
       "    </tr>\n",
       "    <tr>\n",
       "      <th>2</th>\n",
       "      <td>bmw</td>\n",
       "      <td>1_series</td>\n",
       "      <td>2011</td>\n",
       "      <td>premium_unleaded_(required)</td>\n",
       "      <td>300.0</td>\n",
       "      <td>6.0</td>\n",
       "      <td>manual</td>\n",
       "      <td>rear_wheel_drive</td>\n",
       "      <td>2.0</td>\n",
       "      <td>luxury,high-performance</td>\n",
       "      <td>compact</td>\n",
       "      <td>coupe</td>\n",
       "      <td>28</td>\n",
       "      <td>20</td>\n",
       "      <td>3916</td>\n",
       "      <td>36350</td>\n",
       "    </tr>\n",
       "    <tr>\n",
       "      <th>3</th>\n",
       "      <td>bmw</td>\n",
       "      <td>1_series</td>\n",
       "      <td>2011</td>\n",
       "      <td>premium_unleaded_(required)</td>\n",
       "      <td>230.0</td>\n",
       "      <td>6.0</td>\n",
       "      <td>manual</td>\n",
       "      <td>rear_wheel_drive</td>\n",
       "      <td>2.0</td>\n",
       "      <td>luxury,performance</td>\n",
       "      <td>compact</td>\n",
       "      <td>coupe</td>\n",
       "      <td>28</td>\n",
       "      <td>18</td>\n",
       "      <td>3916</td>\n",
       "      <td>29450</td>\n",
       "    </tr>\n",
       "    <tr>\n",
       "      <th>4</th>\n",
       "      <td>bmw</td>\n",
       "      <td>1_series</td>\n",
       "      <td>2011</td>\n",
       "      <td>premium_unleaded_(required)</td>\n",
       "      <td>230.0</td>\n",
       "      <td>6.0</td>\n",
       "      <td>manual</td>\n",
       "      <td>rear_wheel_drive</td>\n",
       "      <td>2.0</td>\n",
       "      <td>luxury</td>\n",
       "      <td>compact</td>\n",
       "      <td>convertible</td>\n",
       "      <td>28</td>\n",
       "      <td>18</td>\n",
       "      <td>3916</td>\n",
       "      <td>34500</td>\n",
       "    </tr>\n",
       "  </tbody>\n",
       "</table>\n",
       "</div>"
      ],
      "text/plain": [
       "  make       model  year             engine_fuel_type  engine_hp  \\\n",
       "0  bmw  1_series_m  2011  premium_unleaded_(required)      335.0   \n",
       "1  bmw    1_series  2011  premium_unleaded_(required)      300.0   \n",
       "2  bmw    1_series  2011  premium_unleaded_(required)      300.0   \n",
       "3  bmw    1_series  2011  premium_unleaded_(required)      230.0   \n",
       "4  bmw    1_series  2011  premium_unleaded_(required)      230.0   \n",
       "\n",
       "   engine_cylinders transmission_type     driven_wheels  number_of_doors  \\\n",
       "0               6.0            manual  rear_wheel_drive              2.0   \n",
       "1               6.0            manual  rear_wheel_drive              2.0   \n",
       "2               6.0            manual  rear_wheel_drive              2.0   \n",
       "3               6.0            manual  rear_wheel_drive              2.0   \n",
       "4               6.0            manual  rear_wheel_drive              2.0   \n",
       "\n",
       "                         market_category vehicle_size vehicle_style  \\\n",
       "0  factory_tuner,luxury,high-performance      compact         coupe   \n",
       "1                     luxury,performance      compact   convertible   \n",
       "2                luxury,high-performance      compact         coupe   \n",
       "3                     luxury,performance      compact         coupe   \n",
       "4                                 luxury      compact   convertible   \n",
       "\n",
       "   highway_mpg  city_mpg  popularity   msrp  \n",
       "0           26        19        3916  46135  \n",
       "1           28        19        3916  40650  \n",
       "2           28        20        3916  36350  \n",
       "3           28        18        3916  29450  \n",
       "4           28        18        3916  34500  "
      ]
     },
     "execution_count": 11,
     "metadata": {},
     "output_type": "execute_result"
    }
   ],
   "source": [
    "df.head()"
   ]
  },
  {
   "cell_type": "markdown",
   "id": "76b9bc86-bafc-4447-94e6-2432149ae8fb",
   "metadata": {},
   "source": [
    "## Target Variable (car price) analysis\n",
    "`msrp` column is the target variable, $y$, in the DataFrame"
   ]
  },
  {
   "cell_type": "code",
   "execution_count": 12,
   "id": "944bb333-4a29-4905-beaa-b9e86d09d21c",
   "metadata": {},
   "outputs": [],
   "source": [
    "# Draw a histogram to how the target variable is speard out"
   ]
  },
  {
   "cell_type": "code",
   "execution_count": 13,
   "id": "6f21e435-1d8a-45b8-94f2-3519ed2a7956",
   "metadata": {},
   "outputs": [
    {
     "data": {
      "text/plain": [
       "<Axes: xlabel='msrp', ylabel='Count'>"
      ]
     },
     "execution_count": 13,
     "metadata": {},
     "output_type": "execute_result"
    },
    {
     "data": {
      "image/png": "[encoded data removed]",
      "text/plain": [
       "<Figure size 640x480 with 1 Axes>"
      ]
     },
     "metadata": {},
     "output_type": "display_data"
    }
   ],
   "source": [
    "sns.histplot(df['msrp'],bins=40)"
   ]
  },
  {
   "cell_type": "markdown",
   "id": "65b6097f-7099-4a7d-acd9-4a93d2fb416b",
   "metadata": {},
   "source": [
    "We see the distribution has a very long tail of few cars that have a very high price. This is a **Long Tail Distribution**, where we have many items that have a low price and very few expensive ones."
   ]
  },
  {
   "cell_type": "markdown",
   "id": "e857078e-5772-46ac-a5c8-e20c3678261f",
   "metadata": {},
   "source": [
    "We can zoom in and focus on cars that cost less than $100,000:"
   ]
  },
  {
   "cell_type": "code",
   "execution_count": 14,
   "id": "4e1ab753-c9c4-4e27-bbfe-6c73e47f1511",
   "metadata": {},
   "outputs": [
    {
     "data": {
      "text/plain": [
       "<Axes: xlabel='msrp', ylabel='Count'>"
      ]
     },
     "execution_count": 14,
     "metadata": {},
     "output_type": "execute_result"
    },
    {
     "data": {
      "image/png": "[encoded data removed]",
      "text/plain": [
       "<Figure size 640x480 with 1 Axes>"
      ]
     },
     "metadata": {},
     "output_type": "display_data"
    }
   ],
   "source": [
    "sns.histplot(df.msrp[df.msrp<100000])"
   ]
  },
  {
   "cell_type": "markdown",
   "id": "8ba3e083-3d65-485d-b872-888ba3c01afe",
   "metadata": {},
   "source": [
    "### Log Transformation\n"
   ]
  },
  {
   "cell_type": "markdown",
   "id": "d5332bb5-1164-4398-8757-4dee0eea28fd",
   "metadata": {},
   "source": [
    "Log Transformation is a technique to reduce skewness (our data above is right skewed) in a distribution and make it more symmetric. We will apply Log Transformation to the target variable, `msrp`:"
   ]
  },
  {
   "cell_type": "code",
   "execution_count": 15,
   "id": "f5aa7beb-f73f-46fb-afbe-94770644a7fa",
   "metadata": {},
   "outputs": [],
   "source": [
    "log_price = np.log1p(df['msrp'])"
   ]
  },
  {
   "cell_type": "code",
   "execution_count": 16,
   "id": "cc7aca43-cb35-4157-9072-d17475801079",
   "metadata": {},
   "outputs": [
    {
     "data": {
      "text/plain": [
       "<Axes: xlabel='msrp', ylabel='Count'>"
      ]
     },
     "execution_count": 16,
     "metadata": {},
     "output_type": "execute_result"
    },
    {
     "data": {
      "image/png": "[encoded data removed]",
      "text/plain": [
       "<Figure size 640x480 with 1 Axes>"
      ]
     },
     "metadata": {},
     "output_type": "display_data"
    }
   ],
   "source": [
    "sns.histplot(log_price)"
   ]
  },
  {
   "cell_type": "markdown",
   "id": "b0f89bef-6147-41aa-a3fb-6c0b1093effc",
   "metadata": {},
   "source": [
    "We can see that Log Transformation has removed the long tail."
   ]
  },
  {
   "cell_type": "markdown",
   "id": "7a5ea2f6-40fd-4e82-957a-e8a12af21a31",
   "metadata": {},
   "source": [
    "### Check for missing values"
   ]
  },
  {
   "cell_type": "code",
   "execution_count": 17,
   "id": "d4ccf9c3-81e2-4c39-ba73-2f704baa43b3",
   "metadata": {},
   "outputs": [
    {
     "data": {
      "text/plain": [
       "make                    0\n",
       "model                   0\n",
       "year                    0\n",
       "engine_fuel_type        3\n",
       "engine_hp              69\n",
       "engine_cylinders       30\n",
       "transmission_type       0\n",
       "driven_wheels           0\n",
       "number_of_doors         6\n",
       "market_category      3742\n",
       "vehicle_size            0\n",
       "vehicle_style           0\n",
       "highway_mpg             0\n",
       "city_mpg                0\n",
       "popularity              0\n",
       "msrp                    0\n",
       "dtype: int64"
      ]
     },
     "execution_count": 17,
     "metadata": {},
     "output_type": "execute_result"
    }
   ],
   "source": [
    "# use Pandas to check for missing values:\n",
    "df.isnull().sum()"
   ]
  },
  {
   "cell_type": "markdown",
   "id": "15598c07-bdbb-4f3c-8094-427f92d895da",
   "metadata": {},
   "source": [
    "We see that there are five columns `engine_fuel_type, engine_hp, engine_cylinders, number_of_doors, market_category` that have missing values. Our target variable, `msrp` does not have any missing values, which is good. We will handle missing data later."
   ]
  },
  {
   "cell_type": "markdown",
   "id": "2ce0db3f-6280-4f12-b48c-f3eb3f07ea31",
   "metadata": {},
   "source": [
    "## Set up Validation Framework"
   ]
  },
  {
   "cell_type": "markdown",
   "id": "c09d6e7b-9bbe-4089-84b9-a56fc3b99a87",
   "metadata": {},
   "source": [
    "Validation Framework ensures that the model we train is good, and can generalize unseen data, i.e. can be applied to new, unseen data. We will split our dataset as listed below:\n",
    "- 20% of dataset for **validation**\n",
    "- 20% of dataset for **testing**\n",
    "- 60% of dataset for **training**"
   ]
  },
  {
   "cell_type": "code",
   "execution_count": 18,
   "id": "fb867a10-8e84-4710-aac5-8a916842aa8c",
   "metadata": {},
   "outputs": [],
   "source": [
    "# Shuffle the dataset\n",
    "n = len(df)\n",
    "n_val = int(0.2*n)\n",
    "n_test = int(0.2*n)\n",
    "n_train = n - (n_val + n_test)\n",
    "\n",
    "np.random.seed(2)\n",
    "idx = np.arange(n)\n",
    "np.random.shuffle(idx)\n",
    "\n",
    "df_shuffled = df.iloc[idx]\n",
    "\n",
    "# Split the dataset\n",
    "df_train = df_shuffled.iloc[:n_train].copy()\n",
    "df_val = df_shuffled.iloc[n_train:n_train+n_val].copy()\n",
    "df_test = df_shuffled[n_train+n_val:].copy()"
   ]
  },
  {
   "cell_type": "markdown",
   "id": "cd01b001-1ff4-41a2-9eaf-a1144a5c878c",
   "metadata": {},
   "source": [
    "Apply Log Transformation to the target variable `msrp`, of the 3 datasets"
   ]
  },
  {
   "cell_type": "code",
   "execution_count": 19,
   "id": "f1f53dd9-0499-4508-bea0-05a9d866fb3b",
   "metadata": {},
   "outputs": [],
   "source": [
    "y_train = np.log1p(df_train.msrp.values)\n",
    "y_val = np.log1p(df_val.msrp.values)\n",
    "y_test = np.log1p(df_val.msrp.values)"
   ]
  },
  {
   "cell_type": "markdown",
   "id": "8a6c2e3d-fa14-499b-8c68-e6a4ce1160d5",
   "metadata": {},
   "source": [
    "Once we get the predictions, we will need to **undo** the log transformation using $\\Large e^{predicton+1}$, where $e$ is Euler's constant."
   ]
  },
  {
   "cell_type": "markdown",
   "id": "ddf18cca-939f-43f7-aebf-d4dbbfc3e32e",
   "metadata": {},
   "source": [
    "To avoid accidentally using the target variable, we will remove it from our dataset"
   ]
  },
  {
   "cell_type": "code",
   "execution_count": 20,
   "id": "52133469-40a6-43bd-a204-ed61a20f3e97",
   "metadata": {},
   "outputs": [],
   "source": [
    "del df_train['msrp']\n",
    "del df_val['msrp']\n",
    "del df_test['msrp']"
   ]
  },
  {
   "cell_type": "markdown",
   "id": "7f4c9dd5-890d-4566-8f84-48559537c81b",
   "metadata": {},
   "source": [
    "We are now ready to train our model."
   ]
  },
  {
   "cell_type": "markdown",
   "id": "623a3645-d63b-4207-b3a4-71df1aed667b",
   "metadata": {},
   "source": [
    "## Linear Regression"
   ]
  },
  {
   "cell_type": "markdown",
   "id": "bc4af5c2-ac3a-451c-9e78-fcf784b9d344",
   "metadata": {},
   "source": [
    "A supervised Machine Learning model has the following form:\n",
    "$$\\LARGE y \\approx g(X)$$\n",
    "- $g()$ is our Linear Regression model\n",
    "- $X$ is a **Matrix**, where each row is an observation of features\n",
    "- $y$ is a **Vector** of values that we want to predict (with log transformation applied)\n",
    "- $(x_i,y_i)$ will represent the $i^{th}$ observation\n",
    "- If we have $n$ features, then $x_i = (x_{i1},x_{i2},x_{i3},\\dots,x_{in})$ will be a **feature vector** with $n$ components.\n",
    "- We want the **prediction** $y$ to be as close as possible to the **actual value**, $y_i$\n",
    "\n",
    "![Supevised ML Model](../img/matvec.jpg)"
   ]
  },
  {
   "cell_type": "markdown",
   "id": "b541bc32-ff17-49ac-ba8e-87f41c313534",
   "metadata": {},
   "source": [
    "For our Linear Regression model, let's pick the 3 numerical features, and ignore the rest for now: `engine_hp,city-mpg, popularity`"
   ]
  },
  {
   "cell_type": "markdown",
   "id": "3770d5c2-ed9c-4d98-a565-fc89b7cf9b67",
   "metadata": {},
   "source": [
    "$\\Large g(x_i)$ has the following form: $\\Large g(x_i) = w_0 + x_{i1}w_1 + x_{i2}w_2 + x_{i3}w3 + \\dots + x_{in}w_n$, where:\n",
    "- $w_0, w_1, w_2, \\dots$ are the **model parameters** that define how they should combine with the features, so that predictions are as close as possible to actual values.\n",
    "- $w_0$ is the **bias term**: this is what we would predict if we do not know anything about the car.\n",
    "- $w_1,w_2,w_3,\\dots$ are the **weights** of each feature, $x_{i1},x_{i2},x_{i3},\\dots$. The model learns these weights during training.\n",
    "\n",
    "We can also use the below notation for $g(x_i)$:\n",
    "\n",
    "$\\Large g(x_i) = w_0 + x_{i1}w_1 + x_{i2}w_2 + x_{i3}w3 + \\dots + x_{in}w_n = w_0 + \\sum_{j=1}^nx_{ij}w_j = w_0 + x_i^Tw$\n",
    "\n",
    "Here, $x_i^Tw$ is the **Dot Product** between the feature and weight vectors. Therefore we can updated our Linear Regression equation as below:\n",
    "\n",
    "$\\Large g(x_i) = w_0 + x_i^Tw$\n",
    "\n",
    "\n",
    "To make the equation shorter, we can convert the weight vector into one $(n+1)$ dimensional vectpr by pre-pending the bias term, $w_0$:\n",
    "\n",
    "$w = (w_0,w_1,w_2,w_3,\\dots,w_n)$\n",
    "\n",
    "Since $w$ is now a $(n+1)$ dimensional vector, we also need to adjust the feature vector from $n$ to $(n+1)$ dimensions, and we can do so by pre-pending a dummy feature with a value of $1$: $x_i = (1,x_{i1},x_{i2},x_{i3},\\dots,x_{in})$. Our new equation now becomes:\n",
    "\n",
    "$\\Large g(x_i) = x_i^Tw$, \n",
    "\n",
    "where both $x_i,w$ are $(n+1)$ dimensional vectors.\n",
    "\n",
    "Therefore, when we define our Linear Regression function, the pseudo-code will look as shown below: the function will take the feature vector as input, and return the predicted value for the specified observation:\n",
    "```py\n",
    "def linear_regression(xi):\n",
    "    #adding the dummy feature tp make xi n+1 dimensional\n",
    "    xi = 1 + xi \n",
    "    return dot(xi,w)\n",
    "```\n",
    "where $xi,w$ are NumPy arrays"
   ]
  },
  {
   "cell_type": "markdown",
   "id": "282da113-1c87-49eb-bc5e-1a1710f46949",
   "metadata": {},
   "source": [
    "To summarize, below is how the Fetaure Matrix looks, where each column is a feature\n",
    "![Feature Matrix](./img/featmat.jpg)"
   ]
  },
  {
   "cell_type": "markdown",
   "id": "28f76cab-5f8d-48e9-996a-9aff476f54ca",
   "metadata": {},
   "source": [
    "Therefore, when we define our Linear Regression pseudo-code will look as shown below:\n",
    "```py\n",
    "predictions = []\n",
    "for xi in X\n",
    "    pred = dot(xi,w)\n",
    "    predictions.append(pred)\n",
    "```\n",
    "where $xi$ is a **Matrix** and $w$ is a **Vector**, and the result is an array of predictions for each row of $X$."
   ]
  },
  {
   "cell_type": "code",
   "execution_count": 21,
   "id": "ace7c88c-e837-467e-898e-e31f75fb809a",
   "metadata": {},
   "outputs": [
    {
     "name": "stdout",
     "output_type": "stream",
     "text": [
      "hello\n"
     ]
    }
   ],
   "source": [
    "print('hello')"
   ]
  },
  {
   "cell_type": "markdown",
   "id": "d0a0bbf1-e64d-4ef4-9c1d-1a055ef1de93",
   "metadata": {},
   "source": [
    "### Training the model"
   ]
  },
  {
   "cell_type": "markdown",
   "id": "b4fc4441-af6e-41fc-af00-62be3007d436",
   "metadata": {},
   "source": [
    "The weight vector can be computed using the following formula:\n",
    "$\\Large w = (X^TX)^{-1}X^Ty$\n",
    "where $X^T$ is the transpose of $X$, $-1$ is the inverse operation on a Matrix, and $X^TX$ is a dot product"
   ]
  },
  {
   "cell_type": "code",
   "execution_count": 22,
   "id": "edb4ee80-17ef-42f4-9bda-47515f1063dd",
   "metadata": {},
   "outputs": [],
   "source": [
    "def train_linear_regression(X,y):\n",
    "    # Add dummy column of 1's\n",
    "    ones = np.ones(X.shape[0])\n",
    "    X = np.column_stack([ones,X])\n",
    "\n",
    "    # Compute weights\n",
    "    w = np.linalg.inv(X.T.dot(X)).dot(X.T).dot(y)\n",
    "    # Return the bias term and weights\n",
    "    return w[0],w[1:]"
   ]
  },
  {
   "cell_type": "markdown",
   "id": "9b54d2d8-63de-4734-b750-ac7334504baa",
   "metadata": {},
   "source": [
    "### Creating the Feature Matrix\n",
    "We will select a few numerical features and create the Feature Matrix"
   ]
  },
  {
   "cell_type": "code",
   "execution_count": 23,
   "id": "0572ea3f-1778-415e-9d6a-a04ceb459051",
   "metadata": {},
   "outputs": [
    {
     "data": {
      "text/html": [
       "<div>\n",
       "<style scoped>\n",
       "    .dataframe tbody tr th:only-of-type {\n",
       "        vertical-align: middle;\n",
       "    }\n",
       "\n",
       "    .dataframe tbody tr th {\n",
       "        vertical-align: top;\n",
       "    }\n",
       "\n",
       "    .dataframe thead th {\n",
       "        text-align: right;\n",
       "    }\n",
       "</style>\n",
       "<table border=\"1\" class=\"dataframe\">\n",
       "  <thead>\n",
       "    <tr style=\"text-align: right;\">\n",
       "      <th></th>\n",
       "      <th>engine_hp</th>\n",
       "      <th>engine_cylinders</th>\n",
       "      <th>highway_mpg</th>\n",
       "      <th>city_mpg</th>\n",
       "      <th>popularity</th>\n",
       "    </tr>\n",
       "  </thead>\n",
       "  <tbody>\n",
       "    <tr>\n",
       "      <th>2735</th>\n",
       "      <td>148.0</td>\n",
       "      <td>4.0</td>\n",
       "      <td>33</td>\n",
       "      <td>24</td>\n",
       "      <td>1385</td>\n",
       "    </tr>\n",
       "    <tr>\n",
       "      <th>6720</th>\n",
       "      <td>132.0</td>\n",
       "      <td>4.0</td>\n",
       "      <td>32</td>\n",
       "      <td>25</td>\n",
       "      <td>2031</td>\n",
       "    </tr>\n",
       "    <tr>\n",
       "      <th>5878</th>\n",
       "      <td>148.0</td>\n",
       "      <td>4.0</td>\n",
       "      <td>37</td>\n",
       "      <td>28</td>\n",
       "      <td>640</td>\n",
       "    </tr>\n",
       "    <tr>\n",
       "      <th>11190</th>\n",
       "      <td>90.0</td>\n",
       "      <td>4.0</td>\n",
       "      <td>18</td>\n",
       "      <td>16</td>\n",
       "      <td>873</td>\n",
       "    </tr>\n",
       "    <tr>\n",
       "      <th>4554</th>\n",
       "      <td>385.0</td>\n",
       "      <td>8.0</td>\n",
       "      <td>21</td>\n",
       "      <td>15</td>\n",
       "      <td>5657</td>\n",
       "    </tr>\n",
       "  </tbody>\n",
       "</table>\n",
       "</div>"
      ],
      "text/plain": [
       "       engine_hp  engine_cylinders  highway_mpg  city_mpg  popularity\n",
       "2735       148.0               4.0           33        24        1385\n",
       "6720       132.0               4.0           32        25        2031\n",
       "5878       148.0               4.0           37        28         640\n",
       "11190       90.0               4.0           18        16         873\n",
       "4554       385.0               8.0           21        15        5657"
      ]
     },
     "execution_count": 23,
     "metadata": {},
     "output_type": "execute_result"
    }
   ],
   "source": [
    "base =['engine_hp','engine_cylinders','highway_mpg','city_mpg','popularity']\n",
    "df_num = df_train[base]\n",
    "df_num.head()"
   ]
  },
  {
   "cell_type": "code",
   "execution_count": 24,
   "id": "c75c323f-d55b-4e2f-b2a2-178ff9a9534d",
   "metadata": {},
   "outputs": [
    {
     "data": {
      "text/plain": [
       "engine_hp           40\n",
       "engine_cylinders    14\n",
       "highway_mpg          0\n",
       "city_mpg             0\n",
       "popularity           0\n",
       "dtype: int64"
      ]
     },
     "execution_count": 24,
     "metadata": {},
     "output_type": "execute_result"
    }
   ],
   "source": [
    "# df_num has missing values\n",
    "df_num.isnull().sum()"
   ]
  },
  {
   "cell_type": "markdown",
   "id": "ba9303e1-0498-475f-b0f8-657752393f37",
   "metadata": {},
   "source": [
    "We have two options to address missing values:\n",
    "1. Remove rows that contain at least 1 missing value: however, by doing this, we will lose information in other columns.\n",
    "2. Replace missing values with zeros, which is what we will use, thereby ignoring the feature for the specific observations."
   ]
  },
  {
   "cell_type": "code",
   "execution_count": 25,
   "id": "9706dedb-aa21-4944-a2af-4c4111a1e814",
   "metadata": {},
   "outputs": [
    {
     "data": {
      "text/plain": [
       "engine_hp           0\n",
       "engine_cylinders    0\n",
       "highway_mpg         0\n",
       "city_mpg            0\n",
       "popularity          0\n",
       "dtype: int64"
      ]
     },
     "execution_count": 25,
     "metadata": {},
     "output_type": "execute_result"
    }
   ],
   "source": [
    "df_num = df_num.fillna(0)\n",
    "df_num.isnull().sum()"
   ]
  },
  {
   "cell_type": "code",
   "execution_count": 26,
   "id": "8c0d7353-8b38-456d-933f-db96e7969b4e",
   "metadata": {},
   "outputs": [],
   "source": [
    "# Convert Pandas DataFrame to a Matrix (2D NumPy Array)\n",
    "X_train = df_num.values"
   ]
  },
  {
   "cell_type": "code",
   "execution_count": 27,
   "id": "21e96ae8-bb78-416d-bcbc-2303d7993bb7",
   "metadata": {},
   "outputs": [],
   "source": [
    "# Call the Linear Regression function\n",
    "w_0,w = train_linear_regression(X_train,y_train)"
   ]
  },
  {
   "cell_type": "code",
   "execution_count": 28,
   "id": "f4e6076c-31da-43d3-9b3a-b3ee25143877",
   "metadata": {},
   "outputs": [],
   "source": [
    "# Let's see our predictions are\n",
    "y_pred = w_0 + X_train.dot(w)"
   ]
  },
  {
   "cell_type": "code",
   "execution_count": 29,
   "id": "524e70a3-d18a-4fea-a51d-abc7eee7ebf1",
   "metadata": {},
   "outputs": [
    {
     "data": {
      "text/plain": [
       "<matplotlib.legend.Legend at 0x1301308f0>"
      ]
     },
     "execution_count": 29,
     "metadata": {},
     "output_type": "execute_result"
    },
    {
     "data": {
      "image/png": "[encoded data removed]",
      "text/plain": [
       "<Figure size 640x480 with 1 Axes>"
      ]
     },
     "metadata": {},
     "output_type": "display_data"
    }
   ],
   "source": [
    "# Plot the predictions\n",
    "sns.histplot(y_pred,label='prediction')\n",
    "sns.histplot(y_train,label='target')\n",
    "plt.legend()"
   ]
  },
  {
   "cell_type": "markdown",
   "id": "0b9c2668-b951-41c1-ad50-ed771052aa46",
   "metadata": {},
   "source": [
    "We can see that the predictions look quite different from the actual values, which indicates that our model isn't powerful enough to capture the distribution of the target variable. This is because our model is quite basic and includes only 5 very simple features."
   ]
  },
  {
   "cell_type": "markdown",
   "id": "00053805-596e-418c-8525-b44d71763eef",
   "metadata": {},
   "source": [
    "## RMSE: Evaluating Model Quality"
   ]
  },
  {
   "cell_type": "markdown",
   "id": "fe2659d1-962a-4f03-b921-4c34e5ca42af",
   "metadata": {},
   "source": [
    "RMSE (Root Mean Squared Error) is a metric that quanitifies the quality of the model, and gives an indication of of how large the errors are that our model is making. It is computed using the below formula:\n",
    "\n",
    "$\\Large \\text{RMSE} = \\sqrt{(1/m) \\sum_{i=1}^m(\\hat y_i-y_i)^2)}$\n",
    "\n",
    "- $m$ is the numner of observations\n",
    "- $\\hat y$ is the predicted value of target variable\n",
    "- $y$ is the actual value of target variable"
   ]
  },
  {
   "cell_type": "code",
   "execution_count": 30,
   "id": "454f711e-d464-4df5-8472-d17b87293b99",
   "metadata": {},
   "outputs": [],
   "source": [
    "def rmse(y,y_pred):\n",
    "    error = y_pred-y\n",
    "    mse = (error**2).mean()\n",
    "    return np.sqrt(mse)"
   ]
  },
  {
   "cell_type": "code",
   "execution_count": 31,
   "id": "74469492-18ff-405f-8e43-4d99f4158eac",
   "metadata": {},
   "outputs": [
    {
     "name": "stdout",
     "output_type": "stream",
     "text": [
      "0.7554\n"
     ]
    }
   ],
   "source": [
    "print(\"{:.4f}\".format(rmse(y_train,y_pred)))"
   ]
  },
  {
   "cell_type": "markdown",
   "id": "83d213b8-4eeb-43fd-bcb0-9f6eebc19bb5",
   "metadata": {},
   "source": [
    "This tells us that on an average, our model's predictions are off by 0.75. This may not be useful in itself, but can be used to compare other models.\n",
    ">Lower the RMSE score, better the model."
   ]
  },
  {
   "cell_type": "markdown",
   "id": "2b218fbd-8320-4693-809e-bd628852e819",
   "metadata": {},
   "source": [
    "## Validating the model"
   ]
  },
  {
   "cell_type": "markdown",
   "id": "aeda6349-f16d-4a27-953a-a8fcdbd0e679",
   "metadata": {},
   "source": [
    "We have computed RMSE on the **training dataset**, and does not reflect the way the model will be used later, where we will use it to predict the price of cars it hasn't seen before. We will **repeat** the above steps with the **validation** dataset that we had set aside earlier: to do this, we will need to get $X_val$, a matrix computed from the validation dataset."
   ]
  },
  {
   "cell_type": "code",
   "execution_count": 32,
   "id": "d87cc94d-3aab-429c-a768-be0702f09817",
   "metadata": {},
   "outputs": [],
   "source": [
    "df_num = df_val[base]\n",
    "df_num = df_num.fillna(0)\n",
    "X_val = df_num.values"
   ]
  },
  {
   "cell_type": "code",
   "execution_count": 33,
   "id": "396e4315-7b95-44a2-a708-26a9c222904d",
   "metadata": {},
   "outputs": [],
   "source": [
    "y_pred = w_0 + X_val.dot(w)"
   ]
  },
  {
   "cell_type": "code",
   "execution_count": 34,
   "id": "7f428111-ffa7-4210-8882-42b57f4fde46",
   "metadata": {},
   "outputs": [
    {
     "name": "stdout",
     "output_type": "stream",
     "text": [
      "0.7617\n"
     ]
    }
   ],
   "source": [
    "print(\"{:.4f}\".format(rmse(y_val,y_pred)))"
   ]
  },
  {
   "cell_type": "markdown",
   "id": "38039442-d108-426b-b740-1da119726349",
   "metadata": {},
   "source": [
    "RMSE while using the validation dataset is $0.76$, and this is the score should use for comparing models"
   ]
  },
  {
   "cell_type": "code",
   "execution_count": 35,
   "id": "85e41610-35f3-4df2-b46c-d91d8e6c9ce2",
   "metadata": {},
   "outputs": [],
   "source": [
    "# To avoid duplicate code, we will write the above steps in a function:\n",
    "def prepare_X(df):\n",
    "    df_num = df[base]\n",
    "    df_num = df_num.fillna(0)\n",
    "    X = df_num.values\n",
    "    return X"
   ]
  },
  {
   "cell_type": "markdown",
   "id": "0638294a-f8de-48c8-84bc-28d4dc7f8a86",
   "metadata": {},
   "source": [
    "Now, our training and validation steps get simplified as shown below:"
   ]
  },
  {
   "cell_type": "code",
   "execution_count": 36,
   "id": "a4e4256b-f801-4f46-85fe-db20fe93c425",
   "metadata": {},
   "outputs": [
    {
     "name": "stdout",
     "output_type": "stream",
     "text": [
      "RMSE score with validation dataset: 0.7617\n"
     ]
    }
   ],
   "source": [
    "# Trains the model\n",
    "X_train = prepare_X(df_train)\n",
    "w_0, w = train_linear_regression(X_train,y_train)\n",
    "\n",
    "# Apply the model to validation dataset\n",
    "X_val = prepare_X(df_val)\n",
    "y_pred = w_0 + X_val.dot(w)\n",
    "print('RMSE score with validation dataset: {:.4f}'.format(rmse(y_val,y_pred)))"
   ]
  },
  {
   "cell_type": "markdown",
   "id": "5c59f494-e188-4005-8d79-273d7ffc5049",
   "metadata": {},
   "source": [
    "## Feature Engineering"
   ]
  },
  {
   "cell_type": "markdown",
   "id": "c3785d92-7045-4c10-b061-e3da63477f28",
   "metadata": {},
   "source": [
    "To improve our model, we can add more features or create fearures to existing ones: this is called **Feature Engineering**. Our aim is to **improve the RMSE** caluclated on the validation dataset.\n",
    "First, we will create a new feature, `age`: The dataset is from 2017, and using the `year` column, we can calculate the `age` of the car.\n"
   ]
  },
  {
   "cell_type": "code",
   "execution_count": 37,
   "id": "23a7d70b-e905-47c4-ba60-33fa355a88cb",
   "metadata": {},
   "outputs": [],
   "source": [
    "def prepare_X(df):\n",
    "    # create a copy of the input dataset\n",
    "    df = df.copy()\n",
    "    # create a copy of base list with the basic features\n",
    "    features = base.copy()\n",
    "    # compute the age feature\n",
    "    df['age'] = 2017 - df['year']\n",
    "    features.append('age')\n",
    "    df_num = df[features]\n",
    "    df_num = df_num.fillna(0)\n",
    "    X = df_num.values\n",
    "    return X"
   ]
  },
  {
   "cell_type": "code",
   "execution_count": 38,
   "id": "1e8ddad8-cad6-4d26-967a-c1ba358acf95",
   "metadata": {},
   "outputs": [
    {
     "name": "stdout",
     "output_type": "stream",
     "text": [
      "RMSE score with validation dataset: 0.5172\n"
     ]
    }
   ],
   "source": [
    "X_train = prepare_X(df_train)\n",
    "w0,w = train_linear_regression(X_train, y_train)\n",
    "\n",
    "X_val = prepare_X(df_val)\n",
    "y_pred = w0 + X_val.dot(w)\n",
    "print('RMSE score with validation dataset: {:.4f}'.format(rmse(y_val,y_pred)))"
   ]
  },
  {
   "cell_type": "code",
   "execution_count": 39,
   "id": "1e4ffb8e-99f6-44ee-8c93-cc759c8bea5e",
   "metadata": {},
   "outputs": [
    {
     "data": {
      "text/plain": [
       "<matplotlib.legend.Legend at 0x13088f170>"
      ]
     },
     "execution_count": 39,
     "metadata": {},
     "output_type": "execute_result"
    },
    {
     "data": {
      "image/png": "[encoded data removed]",
      "text/plain": [
       "<Figure size 640x480 with 1 Axes>"
      ]
     },
     "metadata": {},
     "output_type": "display_data"
    }
   ],
   "source": [
    "# Let's plot the predictions and actual values to see if there are any improvements\n",
    "sns.histplot(y_pred,label='Prediction')\n",
    "sns.histplot(y_val,label='Target')\n",
    "plt.legend()"
   ]
  },
  {
   "cell_type": "markdown",
   "id": "a0be52e3-05f9-4e76-9eed-e00eba5f5b4d",
   "metadata": {},
   "source": [
    "We see that our RMSE has improved from 0.76 to 0.517, meanign `age` is a useful feature when making predictions. We also see that the predictions closely follow the distribution  of the target."
   ]
  },
  {
   "cell_type": "markdown",
   "id": "66a63c6f-a34f-42f8-a1e4-a6d5b2bffc51",
   "metadata": {},
   "source": []
  },
  {
   "cell_type": "markdown",
   "id": "d399d255-b4d1-4b01-8b31-9d051f625b69",
   "metadata": {},
   "source": [
    "### Handling Categorical Variables"
   ]
  },
  {
   "cell_type": "markdown",
   "id": "2b72556e-ce57-49b1-83f3-dc2a09d8ca0e",
   "metadata": {},
   "source": [
    "Number of doors is a categorical variable. We need to **encode** categorical variables by a set if **binary features**, with a separate feature for each distinct value of the variable.\n",
    "We will create three binary features: `num_doors_2`, `num_doors_3`, `num_doors_4`. If the car has 2 doors, `num_doors_2` will be set to 1 and rest will be set to 0, and so on. This method of encoding categorical variables is called **One-Hot Encoding**."
   ]
  },
  {
   "cell_type": "markdown",
   "id": "51c017da",
   "metadata": {},
   "source": []
  }
 ],
 "metadata": {
  "kernelspec": {
   "display_name": "uohvenv",
   "language": "python",
   "name": "python3"
  },
  "language_info": {
   "codemirror_mode": {
    "name": "ipython",
    "version": 3
   },
   "file_extension": ".py",
   "mimetype": "text/x-python",
   "name": "python",
   "nbconvert_exporter": "python",
   "pygments_lexer": "ipython3",
   "version": "3.12.8"
  }
 },
 "nbformat": 4,
 "nbformat_minor": 5
}
